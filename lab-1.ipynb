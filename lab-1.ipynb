{
 "cells": [
  {
   "cell_type": "code",
   "execution_count": 57,
   "metadata": {},
   "outputs": [],
   "source": [
    "from datetime import datetime\n",
    "from functools import reduce\n",
    "import numpy as np\n"
   ]
  },
  {
   "cell_type": "code",
   "execution_count": 2,
   "metadata": {},
   "outputs": [],
   "source": [
    "state_power = 64\n"
   ]
  },
  {
   "cell_type": "code",
   "execution_count": 3,
   "metadata": {},
   "outputs": [
    {
     "name": "stdout",
     "output_type": "stream",
     "text": [
      "Defining x0, x1, x2, x3, x4, x5, x6, x7, x8, x9, x10, x11, x12, x13, x14, x15, x16, x17, x18, x19, x20, x21, x22, x23, x24, x25, x26, x27, x28, x29, x30, x31, x32, x33, x34, x35, x36, x37, x38, x39, x40, x41, x42, x43, x44, x45, x46, x47, x48, x49, x50, x51, x52, x53, x54, x55, x56, x57, x58, x59, x60, x61, x62, x63\n"
     ]
    }
   ],
   "source": [
    "B = BooleanPolynomialRing(state_power, 'x', order = 'degrevlex')\n",
    "B.inject_variables()\n"
   ]
  },
  {
   "cell_type": "code",
   "execution_count": 4,
   "metadata": {},
   "outputs": [
    {
     "data": {
      "text/plain": [
       "x57*x56*x53*x52*x49*x48*x46*x41*x39*x38*x37*x29*x26*x25*x23*x20*x6*x5*x3*x1*x0 + x57*x53*x52*x49*x48*x47*x46*x41*x39*x38*x37*x29*x26*x25*x23*x20*x6*x3*x1*x0 + x57*x53*x52*x49*x48*x47*x46*x41*x39*x37*x29*x26*x25*x23*x20*x6*x3*x1*x0 + x57*x53*x52*x49*x48*x46*x41*x39*x31*x29*x26*x25*x23*x20*x6*x3*x1*x0 + x53*x52*x49*x48*x46*x41*x39*x31*x29*x26*x25*x23*x20*x6*x3*x1*x0 + x53*x52*x49*x48*x46*x41*x39*x29*x25*x23*x20*x14*x6*x3*x1*x0 + x53*x52*x49*x48*x46*x41*x39*x29*x26*x25*x23*x20*x6*x3*x1*x0 + x53*x52*x49*x48*x41*x39*x29*x25*x23*x20*x14*x6*x3*x1*x0 + x53*x52*x49*x48*x41*x39*x34*x29*x25*x23*x20*x6*x3*x1*x0 + x53*x52*x49*x48*x46*x41*x39*x29*x25*x23*x20*x6*x3*x1*x0 + x53*x52*x49*x41*x39*x34*x29*x25*x23*x20*x6*x3*x1*x0 + x53*x52*x49*x48*x41*x39*x29*x25*x23*x20*x6*x3*x1*x0 + x58*x53*x52*x49*x41*x39*x29*x25*x23*x20*x6*x3*x1*x0 + x53*x52*x49*x41*x39*x29*x25*x23*x20*x6*x3*x1*x0 + x53*x52*x49*x42*x41*x39*x29*x25*x23*x6*x3*x1*x0 + x58*x53*x52*x49*x41*x39*x29*x25*x23*x6*x3*x1*x0 + x53*x52*x49*x42*x41*x39*x29*x25*x23*x6*x3*x0 + x62*x53*x52*x49*x41*x39*x29*x25*x23*x6*x3*x0 + x53*x52*x49*x39*x29*x25*x23*x11*x6*x3*x0 + x53*x52*x49*x41*x39*x29*x25*x23*x6*x3*x0 + x62*x53*x52*x49*x39*x29*x25*x23*x6*x3*x0 + x52*x49*x39*x29*x25*x23*x11*x6*x3*x0 + x53*x52*x49*x39*x29*x25*x23*x6*x3*x0 + x52*x39*x29*x25*x23*x22*x6*x3*x0 + x52*x49*x39*x29*x25*x23*x6*x3*x0 + x52*x39*x29*x25*x23*x6*x3*x0 + x52*x39*x29*x25*x23*x21*x6*x0 + x52*x39*x29*x25*x23*x22*x6*x0 + x52*x39*x29*x25*x23*x21*x0 + x52*x39*x32*x29*x25*x23*x0 + x52*x39*x29*x25*x23*x0 + x52*x39*x32*x29*x25*x0 + x62*x52*x39*x29*x25*x0 + x52*x48*x39*x29*x0 + x62*x52*x39*x29*x0 + x52*x39*x29*x0 + x52*x46*x39*x0 + x52*x48*x39*x0 + x52*x5*x0 + x52*x39*x0 + x52*x46*x0 + x5*x0 + x52*x0 + x53*x0 + x53 + 1"
      ]
     },
     "execution_count": 4,
     "metadata": {},
     "output_type": "execute_result"
    }
   ],
   "source": [
    "with open('./filter-functions.txt') as filter_function_file:\n",
    "\tfilter_function_string = filter_function_file\\\n",
    "\t\t.read()\\\n",
    "\t\t.replace('_{', '')\\\n",
    "\t\t.replace('} x', ' * x')\\\n",
    "\t\t.replace('} +', ' +')\n",
    "\n",
    "\tfilter_function = eval(filter_function_string)\n",
    "\n",
    "filter_function\n"
   ]
  },
  {
   "cell_type": "code",
   "execution_count": 5,
   "metadata": {},
   "outputs": [
    {
     "data": {
      "text/plain": [
       "[1, 1, 1, 1, 0, 0, 0, 1, 0, 0]"
      ]
     },
     "execution_count": 5,
     "metadata": {},
     "output_type": "execute_result"
    }
   ],
   "source": [
    "with open('./gamma.txt') as gamma_file:\n",
    "\tvalidated_gamma = gamma_file.read()\n",
    "\tvalidated_gamma = [int(bit) for bit in validated_gamma]\n",
    "\n",
    "validated_gamma[:10]\n"
   ]
  },
  {
   "cell_type": "code",
   "execution_count": 6,
   "metadata": {},
   "outputs": [],
   "source": [
    "p = B['x'](\n",
    "\t'x^64 + x^63 + x^62 + x^60 + x^59 + x^58 + x^57 + x^56 + x^53 +'\\\n",
    "\t'x^50 + x^47 + x^45 + x^44 + x^43 + x^42 + x^41 + x^40 + x^39 +'\\\n",
    "\t'x^38 + x^37 + x^36 + x^34 + x^32 + x^30 + x^28 + x^24 + x^18 +'\\\n",
    "    'x^15 + x^14 + x^13 + x^11 + x^9 + x^6 + x^4 + 1'\n",
    ")\n"
   ]
  },
  {
   "cell_type": "code",
   "execution_count": 7,
   "metadata": {},
   "outputs": [],
   "source": [
    "def take_time_difference(start_time):\n",
    "\tprint(f'Execution time: {datetime.now() - start_time}')\n"
   ]
  },
  {
   "cell_type": "code",
   "execution_count": 8,
   "metadata": {},
   "outputs": [
    {
     "name": "stdout",
     "output_type": "stream",
     "text": [
      "Execution time: 0:05:36.993521\n",
      "Polynomial Sequence with 2239 Polynomials in 32 Variables\n"
     ]
    }
   ],
   "source": [
    "start_time = datetime.now()\n",
    "\n",
    "I_0 = Ideal(filter_function)\n",
    "groebner_basis_0 = I_0.groebner_basis()\n",
    "\n",
    "take_time_difference(start_time)\n",
    "\n",
    "print(groebner_basis_0)\n"
   ]
  },
  {
   "cell_type": "code",
   "execution_count": 9,
   "metadata": {},
   "outputs": [
    {
     "name": "stdout",
     "output_type": "stream",
     "text": [
      "Execution time: 0:00:03.893051\n",
      "Polynomial Sequence with 2239 Polynomials in 32 Variables\n"
     ]
    }
   ],
   "source": [
    "start_time = datetime.now()\n",
    "\n",
    "I_1 = Ideal(filter_function + 1)\n",
    "groebner_basis_1 = I_1.groebner_basis()\n",
    "\n",
    "take_time_difference(start_time)\n",
    "\n",
    "print(groebner_basis_1)\n"
   ]
  },
  {
   "cell_type": "code",
   "execution_count": 10,
   "metadata": {},
   "outputs": [],
   "source": [
    "def get_min_polynomials(groebner_basis):\n",
    "\tpolynomials_by_degree = {}\n",
    "\n",
    "\tfor polynomial in groebner_basis:\n",
    "\t\tpolynomial_degree = polynomial.deg()\n",
    "\n",
    "\t\tif polynomial_degree not in polynomials_by_degree:\n",
    "\t\t\tpolynomials_by_degree[polynomial_degree] = []\n",
    "\n",
    "\t\tpolynomials_by_degree[polynomial_degree].append(polynomial)\n",
    "\t\n",
    "\treturn polynomials_by_degree[min([int(degree) for degree in polynomials_by_degree.keys()])]\n"
   ]
  },
  {
   "cell_type": "code",
   "execution_count": 11,
   "metadata": {},
   "outputs": [
    {
     "name": "stdout",
     "output_type": "stream",
     "text": [
      "[x53*x0 + x0 + x53 + 1]\n"
     ]
    }
   ],
   "source": [
    "min_polynomials_0 = get_min_polynomials(groebner_basis_0)\n",
    "\n",
    "print(min_polynomials_0)\n",
    "\n",
    "min_polynomial_0 = min_polynomials_0[0]\n"
   ]
  },
  {
   "cell_type": "code",
   "execution_count": 12,
   "metadata": {},
   "outputs": [
    {
     "name": "stdout",
     "output_type": "stream",
     "text": [
      "[x53*x0 + x53]\n"
     ]
    }
   ],
   "source": [
    "min_polynomials_1 = get_min_polynomials(groebner_basis_1)\n",
    "\n",
    "print(min_polynomials_1)\n",
    "\n",
    "min_polynomial_1 = min_polynomials_1[0]\n"
   ]
  },
  {
   "cell_type": "code",
   "execution_count": 42,
   "metadata": {},
   "outputs": [],
   "source": [
    "C = companion_matrix(p, format = 'bottom')\n",
    "\n",
    "state_in_string = reduce(lambda acc, i: f'{acc}, x{i}', range(1, state_power), 'x0')\n",
    "\n",
    "current_state = vector(B, (eval(state_in_string)))\n"
   ]
  },
  {
   "cell_type": "code",
   "execution_count": 43,
   "metadata": {},
   "outputs": [],
   "source": [
    "def get_equation(i):\n",
    "\tglobal current_state\n",
    "\n",
    "\tcurrent_state = C * current_state\n",
    "\n",
    "\tmin_polynomial = min_polynomial_0 if validated_gamma[i] == 0 else min_polynomial_1\n",
    "\n",
    "\treturn min_polynomial(*current_state)\n"
   ]
  },
  {
   "cell_type": "code",
   "execution_count": 44,
   "metadata": {},
   "outputs": [
    {
     "name": "stdout",
     "output_type": "stream",
     "text": [
      "Execution time: 0:00:02.441939\n",
      "x54*x1 + x54\n",
      "x55*x2 + x55\n",
      "x56*x3 + x56\n",
      "x57*x4 + x57\n",
      "x58*x5 + x5 + x58 + 1\n",
      "x59*x6 + x6 + x59 + 1\n",
      "x60*x7 + x7 + x60 + 1\n",
      "x61*x8 + x61\n",
      "x62*x9 + x9 + x62 + 1\n",
      "x63*x10 + x10 + x63 + 1\n"
     ]
    }
   ],
   "source": [
    "start_time = datetime.now()\n",
    "\n",
    "equations = list(map(get_equation, range(1000)))\n",
    "\n",
    "take_time_difference(start_time)\n",
    "\n",
    "for i in range(0, 10):\n",
    "\tprint(equations[i])\n"
   ]
  },
  {
   "cell_type": "code",
   "execution_count": 68,
   "metadata": {},
   "outputs": [
    {
     "name": "stdout",
     "output_type": "stream",
     "text": [
      "Execution time: 0:00:27.408513\n",
      "x0\n",
      "x1\n",
      "x2 + 1\n",
      "x3\n",
      "x4 + 1\n",
      "x5\n",
      "x6\n",
      "x7\n",
      "x8\n",
      "x9\n",
      "x10 + 1\n",
      "x11\n",
      "x12\n",
      "x13 + 1\n",
      "x14 + 1\n",
      "x15 + 1\n",
      "x16 + 1\n",
      "x17 + 1\n",
      "x18\n",
      "x19 + 1\n",
      "x20 + 1\n",
      "x21\n",
      "x22 + 1\n",
      "x23\n",
      "x24\n",
      "x25 + 1\n",
      "x26\n",
      "x27\n",
      "x28\n",
      "x29\n",
      "x30\n",
      "x31 + 1\n",
      "x32\n",
      "x33 + 1\n",
      "x34 + 1\n",
      "x35\n",
      "x36\n",
      "x37 + 1\n",
      "x38\n",
      "x39\n",
      "x40\n",
      "x41\n",
      "x42 + 1\n",
      "x43\n",
      "x44\n",
      "x45\n",
      "x46 + 1\n",
      "x47\n",
      "x48 + 1\n",
      "x49\n",
      "x50\n",
      "x51\n",
      "x52 + 1\n",
      "x53\n",
      "x54\n",
      "x55 + 1\n",
      "x56\n",
      "x57\n",
      "x58 + 1\n",
      "x59 + 1\n",
      "x60 + 1\n",
      "x61\n",
      "x62 + 1\n",
      "x63 + 1\n"
     ]
    }
   ],
   "source": [
    "start_time = datetime.now()\n",
    "\n",
    "groebner_basis_final = Ideal(equations).groebner_basis()\n",
    "\n",
    "take_time_difference(start_time)\n",
    "\n",
    "for v in groebner_basis_final:\n",
    "\tprint(v)\n"
   ]
  },
  {
   "cell_type": "code",
   "execution_count": 75,
   "metadata": {},
   "outputs": [
    {
     "name": "stdout",
     "output_type": "stream",
     "text": [
      "0010100000100111110110100100000101100100001000101000100100111011\n"
     ]
    }
   ],
   "source": [
    "initial_state = [1 if v.has_constant_part() == True else 0 for v in groebner_basis_final]\n",
    "\n",
    "print(''.join([f'{bit}' for bit in initial_state]))\n"
   ]
  },
  {
   "cell_type": "code",
   "execution_count": 52,
   "metadata": {},
   "outputs": [],
   "source": [
    "def generate_gamma():\n",
    "\tglobal current_state\n",
    "\n",
    "\tcurrent_state = C * current_state\n",
    "\n",
    "\treturn filter_function(*current_state)\n"
   ]
  },
  {
   "cell_type": "code",
   "execution_count": 59,
   "metadata": {},
   "outputs": [],
   "source": [
    "current_state = vector(B, initial_state)\n",
    "\n",
    "generated_gamma = list(map(lambda i: generate_gamma(), range(len(validated_gamma))))\n"
   ]
  },
  {
   "cell_type": "code",
   "execution_count": 60,
   "metadata": {},
   "outputs": [
    {
     "data": {
      "text/plain": [
       "True"
      ]
     },
     "execution_count": 60,
     "metadata": {},
     "output_type": "execute_result"
    }
   ],
   "source": [
    "np.array_equal(validated_gamma, generated_gamma)\n"
   ]
  },
  {
   "cell_type": "code",
   "execution_count": null,
   "metadata": {},
   "outputs": [],
   "source": []
  }
 ],
 "metadata": {
  "kernelspec": {
   "display_name": "SageMath 9.5",
   "language": "sage",
   "name": "sagemath"
  },
  "language_info": {
   "codemirror_mode": {
    "name": "ipython",
    "version": 3
   },
   "file_extension": ".py",
   "mimetype": "text/x-python",
   "name": "python",
   "nbconvert_exporter": "python",
   "pygments_lexer": "ipython3",
   "version": "3.10.6"
  },
  "orig_nbformat": 4
 },
 "nbformat": 4,
 "nbformat_minor": 2
}
